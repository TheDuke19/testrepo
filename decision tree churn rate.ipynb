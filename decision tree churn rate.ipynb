{
 "cells": [
  {
   "cell_type": "code",
   "execution_count": 2,
   "id": "76a2d6df",
   "metadata": {},
   "outputs": [
    {
     "name": "stdout",
     "output_type": "stream",
     "text": [
      "Collecting seaborn\n",
      "  Downloading seaborn-0.11.2-py3-none-any.whl (292 kB)\n",
      "Requirement already satisfied: matplotlib>=2.2 in c:\\users\\burne\\anaconda3\\envs\\tensorflow\\lib\\site-packages (from seaborn) (3.5.1)\n",
      "Requirement already satisfied: pandas>=0.23 in c:\\users\\burne\\anaconda3\\envs\\tensorflow\\lib\\site-packages (from seaborn) (1.4.2)\n",
      "Requirement already satisfied: scipy>=1.0 in c:\\users\\burne\\anaconda3\\envs\\tensorflow\\lib\\site-packages (from seaborn) (1.7.3)\n",
      "Requirement already satisfied: numpy>=1.15 in c:\\users\\burne\\anaconda3\\envs\\tensorflow\\lib\\site-packages (from seaborn) (1.21.5)\n",
      "Requirement already satisfied: fonttools>=4.22.0 in c:\\users\\burne\\anaconda3\\envs\\tensorflow\\lib\\site-packages (from matplotlib>=2.2->seaborn) (4.33.3)\n",
      "Requirement already satisfied: python-dateutil>=2.7 in c:\\users\\burne\\anaconda3\\envs\\tensorflow\\lib\\site-packages (from matplotlib>=2.2->seaborn) (2.8.2)\n",
      "Requirement already satisfied: cycler>=0.10 in c:\\users\\burne\\anaconda3\\envs\\tensorflow\\lib\\site-packages (from matplotlib>=2.2->seaborn) (0.11.0)\n",
      "Requirement already satisfied: kiwisolver>=1.0.1 in c:\\users\\burne\\anaconda3\\envs\\tensorflow\\lib\\site-packages (from matplotlib>=2.2->seaborn) (1.4.2)\n",
      "Requirement already satisfied: packaging>=20.0 in c:\\users\\burne\\anaconda3\\envs\\tensorflow\\lib\\site-packages (from matplotlib>=2.2->seaborn) (21.3)\n",
      "Requirement already satisfied: pyparsing>=2.2.1 in c:\\users\\burne\\anaconda3\\envs\\tensorflow\\lib\\site-packages (from matplotlib>=2.2->seaborn) (3.0.4)\n",
      "Requirement already satisfied: pillow>=6.2.0 in c:\\users\\burne\\anaconda3\\envs\\tensorflow\\lib\\site-packages (from matplotlib>=2.2->seaborn) (9.1.0)\n",
      "Requirement already satisfied: pytz>=2020.1 in c:\\users\\burne\\anaconda3\\envs\\tensorflow\\lib\\site-packages (from pandas>=0.23->seaborn) (2021.3)\n",
      "Requirement already satisfied: six>=1.5 in c:\\users\\burne\\anaconda3\\envs\\tensorflow\\lib\\site-packages (from python-dateutil>=2.7->matplotlib>=2.2->seaborn) (1.16.0)\n",
      "Installing collected packages: seaborn\n",
      "Successfully installed seaborn-0.11.2\n",
      "Note: you may need to restart the kernel to use updated packages.\n"
     ]
    }
   ],
   "source": [
    "pip install seaborn"
   ]
  },
  {
   "cell_type": "code",
   "execution_count": 3,
   "id": "4db1d7b2",
   "metadata": {},
   "outputs": [],
   "source": [
    "import numpy as np\n",
    "import pandas as pd\n",
    "import matplotlib.pyplot as plt\n",
    "import seaborn as sns\n",
    "from sklearn.preprocessing import LabelEncoder, OneHotEncoder\n",
    "from sklearn.model_selection import train_test_split, GridSearchCV, cross_val_score, cross_val_predict\n",
    "from sklearn.tree import DecisionTreeClassifier, plot_tree\n",
    "from sklearn.metrics import classification_report, confusion_matrix, accuracy_score, precision_score, recall_score\n",
    "from sklearn.compose import make_column_transformer"
   ]
  },
  {
   "cell_type": "code",
   "execution_count": 8,
   "id": "018008a3",
   "metadata": {},
   "outputs": [],
   "source": [
    "data = pd.read_csv(r'C:\\Users\\burne\\Desktop\\IBM Data Science Certificate\\Customer Churn Model\\churndata.csv')"
   ]
  },
  {
   "cell_type": "code",
   "execution_count": 9,
   "id": "ce72e31f",
   "metadata": {},
   "outputs": [],
   "source": [
    "# Data processing\n",
    "data = data.iloc[:, 1:] # removes first column with id's\n",
    "X_raw = data.iloc[:,:-1] # creates feature matrix without churn\n"
   ]
  },
  {
   "cell_type": "code",
   "execution_count": 10,
   "id": "b4c36500",
   "metadata": {},
   "outputs": [
    {
     "data": {
      "text/plain": [
       "Yes    6352\n",
       "No      680\n",
       "Name: PhoneService, dtype: int64"
      ]
     },
     "execution_count": 10,
     "metadata": {},
     "output_type": "execute_result"
    }
   ],
   "source": [
    "# Use this command to do a value count of selected columns\n",
    "X_raw['PhoneService'].value_counts()"
   ]
  },
  {
   "cell_type": "code",
   "execution_count": 11,
   "id": "5c6d8079",
   "metadata": {},
   "outputs": [],
   "source": [
    "# One hot encoding\n",
    "encoder = OneHotEncoder(sparse = False)\n",
    "column_trans = make_column_transformer((encoder, ['gender','SeniorCitizen', 'Partner', 'Dependents', 'PhoneService', 'MultipleLines', 'InternetService', 'OnlineSecurity', 'OnlineBackup', 'DeviceProtection', 'TechSupport', 'StreamingTV', 'StreamingMovies', 'Contract', 'PaperlessBilling', 'PaymentMethod']), remainder = 'passthrough')\n",
    "#encoder.fit_transform(X_raw[['PaymentMethod']])\n",
    "#encoder.categories_\n",
    "# NEW feature matrix\n",
    "X = column_trans.fit_transform(X_raw)"
   ]
  },
  {
   "cell_type": "code",
   "execution_count": 12,
   "id": "c61bc941",
   "metadata": {},
   "outputs": [],
   "source": [
    "#encoder.categories_"
   ]
  },
  {
   "cell_type": "code",
   "execution_count": 13,
   "id": "25f938e6",
   "metadata": {},
   "outputs": [],
   "source": [
    "# Binary encode churn\n",
    "target = data.iloc[:,-1:]\n",
    "y = target.apply(LabelEncoder().fit_transform)"
   ]
  },
  {
   "cell_type": "code",
   "execution_count": 14,
   "id": "83a6a0a4",
   "metadata": {},
   "outputs": [],
   "source": [
    "X_train, X_test, y_train, y_test = train_test_split(X, y, test_size = 0.3)\n"
   ]
  },
  {
   "cell_type": "code",
   "execution_count": 15,
   "id": "32d89eec",
   "metadata": {},
   "outputs": [],
   "source": [
    "# Hyperprameter tuning\n",
    "#params = {'max_depth' : list(range(1,11))}\n",
    "#'min_samples_leaf' : [75,80,85,90,100,110,120],\n",
    "#'min_samples_split': [1,2,3,4,5,8]}\n",
    "#gridsearch = GridSearchCV(DecisionTreeClassifier(random_state=6), params,verbose=1, cv=5, n_jobs=-1, scoring = 'roc_auc')\n"
   ]
  },
  {
   "cell_type": "code",
   "execution_count": 16,
   "id": "e16516da",
   "metadata": {},
   "outputs": [],
   "source": [
    "#clf = DecisionTreeClassifier(max_depth=6,min_samples_leaf=75,min_samples_split=2, random_state=5)\n",
    "clf = DecisionTreeClassifier(max_depth=5, random_state=5)\n"
   ]
  },
  {
   "cell_type": "code",
   "execution_count": 17,
   "id": "b0957bcd",
   "metadata": {},
   "outputs": [
    {
     "data": {
      "text/plain": [
       "DecisionTreeClassifier(max_depth=5, random_state=5)"
      ]
     },
     "execution_count": 17,
     "metadata": {},
     "output_type": "execute_result"
    }
   ],
   "source": [
    "# Fit model\n",
    "clf.fit(X_train, y_train)"
   ]
  },
  {
   "cell_type": "code",
   "execution_count": 20,
   "id": "3c209f5a",
   "metadata": {},
   "outputs": [],
   "source": [
    "#clf.best_params_"
   ]
  },
  {
   "cell_type": "code",
   "execution_count": 21,
   "id": "891b90e8",
   "metadata": {},
   "outputs": [],
   "source": [
    "#clf.best_estimator_"
   ]
  },
  {
   "cell_type": "code",
   "execution_count": 22,
   "id": "e8ebcbd6",
   "metadata": {},
   "outputs": [
    {
     "name": "stdout",
     "output_type": "stream",
     "text": [
      "TRAIN SET SINGLE prediction scores:\n",
      "Accuracy score = 0.8715969118244616\n",
      "Precision score = 0.7902097902097902\n",
      "Recall score = 0.6975308641975309\n"
     ]
    }
   ],
   "source": [
    "# Check overfitting by predicting the training set. Single iteration.\n",
    "predict_train = clf.predict(X_train) # predict for training set\n",
    "acc = accuracy_score(y_train, predict_train)\n",
    "pre = precision_score(y_train, predict_train)\n",
    "rec = recall_score(y_train, predict_train)\n",
    "print('TRAIN SET SINGLE prediction scores:\\nAccuracy score =', acc)\n",
    "print('Precision score =', pre)\n",
    "print('Recall score =', rec)"
   ]
  },
  {
   "cell_type": "code",
   "execution_count": 23,
   "id": "a1728f1a",
   "metadata": {},
   "outputs": [
    {
     "name": "stdout",
     "output_type": "stream",
     "text": [
      "TEST SET SINGLE:\n",
      "Accuracy score = 0.8488151658767773\n",
      "Precision score = 0.7529880478087649\n",
      "Recall score = 0.6596858638743456\n"
     ]
    }
   ],
   "source": [
    "# Scores for single iteration of test data\n",
    "predict = clf.predict(X_test) \n",
    "acc = accuracy_score(y_test, predict)\n",
    "pre = precision_score(y_test, predict)\n",
    "rec = recall_score(y_test, predict)\n",
    "print('TEST SET SINGLE:\\nAccuracy score =', acc)\n",
    "print('Precision score =', pre)\n",
    "print('Recall score =', rec)"
   ]
  },
  {
   "cell_type": "code",
   "execution_count": 24,
   "id": "0950b906",
   "metadata": {},
   "outputs": [
    {
     "name": "stdout",
     "output_type": "stream",
     "text": [
      "TEST SET 10 FOLD CV (hold out data set)\n",
      "Accuracy score = 0.8440758293838863\n",
      "Precision score = 0.7067796610169491\n",
      "Recall score = 0.7277486910994765\n"
     ]
    }
   ],
   "source": [
    "# 10 fold Cross validation predict scores on hold out dataset \n",
    "#a = clf.best_estimator_\n",
    "\n",
    "y_predict = cross_val_predict(clf, X_test,y_test, cv =10)\n",
    "acc = accuracy_score(y_test, y_predict)\n",
    "pre = precision_score(y_test, y_predict)\n",
    "rec = recall_score(y_test, y_predict)\n",
    "print('TEST SET 10 FOLD CV (hold out data set)\\nAccuracy score =', acc)\n",
    "print('Precision score =', pre)\n",
    "print('Recall score =', rec)"
   ]
  },
  {
   "cell_type": "code",
   "execution_count": 25,
   "id": "9bb2d7f2",
   "metadata": {},
   "outputs": [
    {
     "ename": "NameError",
     "evalue": "name 'a' is not defined",
     "output_type": "error",
     "traceback": [
      "\u001b[1;31m---------------------------------------------------------------------------\u001b[0m",
      "\u001b[1;31mNameError\u001b[0m                                 Traceback (most recent call last)",
      "Input \u001b[1;32mIn [25]\u001b[0m, in \u001b[0;36m<cell line: 1>\u001b[1;34m()\u001b[0m\n\u001b[1;32m----> 1\u001b[0m scores \u001b[38;5;241m=\u001b[39m cross_val_score(\u001b[43ma\u001b[49m, X_test, y_test, cv\u001b[38;5;241m=\u001b[39m\u001b[38;5;241m10\u001b[39m, scoring \u001b[38;5;241m=\u001b[39m \u001b[38;5;124m'\u001b[39m\u001b[38;5;124mrecall\u001b[39m\u001b[38;5;124m'\u001b[39m)\n\u001b[0;32m      2\u001b[0m scores\n",
      "\u001b[1;31mNameError\u001b[0m: name 'a' is not defined"
     ]
    }
   ],
   "source": [
    "scores = cross_val_score(a, X_test, y_test, cv=10, scoring = 'recall')\n",
    "scores"
   ]
  },
  {
   "cell_type": "code",
   "execution_count": 26,
   "id": "26c0badd",
   "metadata": {},
   "outputs": [
    {
     "data": {
      "image/png": "[encoded data removed]",
      "text/plain": [
       "<Figure size 432x288 with 2 Axes>"
      ]
     },
     "metadata": {
      "needs_background": "light"
     },
     "output_type": "display_data"
    }
   ],
   "source": [
    "matrix = confusion_matrix(y_test, y_predict)\n",
    "# Plot confusion Matrix\n",
    "class_names = ['Churn_No', 'Churn_Yes']\n",
    "dataframe_Confusion =  pd.DataFrame(matrix, index=class_names, columns=class_names) \n",
    "\n",
    "sns.heatmap(dataframe_Confusion, annot=True,  cmap=\"Blues\", fmt=\".0f\")\n",
    "plt.title(\"Confusion Matrix - DT - Max_depth = 5\")\n",
    "plt.tight_layout()\n",
    "plt.ylabel(\"True Class\")\n",
    "plt.xlabel(\"Predicted Class\")\n",
    "plt.savefig('./confusion_matrix.png')\n",
    "plt.show()\n",
    "plt.close()"
   ]
  },
  {
   "cell_type": "code",
   "execution_count": 27,
   "id": "1d45b05c",
   "metadata": {},
   "outputs": [
    {
     "data": {
      "image/png": "[encoded data removed]",
      "text/plain": [
       "<Figure size 432x288 with 1 Axes>"
      ]
     },
     "metadata": {
      "needs_background": "light"
     },
     "output_type": "display_data"
    }
   ],
   "source": [
    "plot_tree(clf)\n",
    "plt.show()"
   ]
  },
  {
   "cell_type": "code",
   "execution_count": 28,
   "id": "a09758f9",
   "metadata": {},
   "outputs": [
    {
     "data": {
      "text/plain": [
       "'              precision    recall  f1-score   support\\n\\n           0       0.90      0.89      0.89      1537\\n           1       0.71      0.73      0.72       573\\n\\n    accuracy                           0.84      2110\\n   macro avg       0.80      0.81      0.80      2110\\nweighted avg       0.85      0.84      0.84      2110\\n'"
      ]
     },
     "execution_count": 28,
     "metadata": {},
     "output_type": "execute_result"
    }
   ],
   "source": [
    "classification_report(y_test,y_predict)"
   ]
  },
  {
   "cell_type": "code",
   "execution_count": null,
   "id": "cddef092",
   "metadata": {},
   "outputs": [],
   "source": []
  }
 ],
 "metadata": {
  "kernelspec": {
   "display_name": "Python 3 (ipykernel)",
   "language": "python",
   "name": "python3"
  },
  "language_info": {
   "codemirror_mode": {
    "name": "ipython",
    "version": 3
   },
   "file_extension": ".py",
   "mimetype": "text/x-python",
   "name": "python",
   "nbconvert_exporter": "python",
   "pygments_lexer": "ipython3",
   "version": "3.9.7"
  }
 },
 "nbformat": 4,
 "nbformat_minor": 5
}
